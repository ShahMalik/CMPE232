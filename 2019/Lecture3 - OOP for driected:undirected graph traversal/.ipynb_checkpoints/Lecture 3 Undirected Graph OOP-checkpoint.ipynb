{
 "cells": [
  {
   "cell_type": "code",
   "execution_count": 1,
   "metadata": {},
   "outputs": [],
   "source": [
    "import warnings\n",
    "warnings.filterwarnings('ignore')\n",
    "\n",
    "import networkx as nx\n",
    "import matplotlib.pyplot as plt\n",
    "%matplotlib inline"
   ]
  },
  {
   "cell_type": "markdown",
   "metadata": {},
   "source": [
    "## Who are the nodes\n",
    " - What are the distinct node name?"
   ]
  },
  {
   "cell_type": "code",
   "execution_count": 2,
   "metadata": {},
   "outputs": [],
   "source": [
    "elist = [('A', 'B'), ('B', 'C'), ('C', 'A'), ('C', 'D')]"
   ]
  },
  {
   "cell_type": "code",
   "execution_count": 3,
   "metadata": {},
   "outputs": [
    {
     "data": {
      "text/plain": [
       "['A', 'B', 'C', 'C']"
      ]
     },
     "execution_count": 3,
     "metadata": {},
     "output_type": "execute_result"
    }
   ],
   "source": [
    "sources = [s for s,t in elist]  # source node names\n",
    "sources"
   ]
  },
  {
   "cell_type": "code",
   "execution_count": 4,
   "metadata": {},
   "outputs": [
    {
     "data": {
      "text/plain": [
       "['B', 'C', 'A', 'D']"
      ]
     },
     "execution_count": 4,
     "metadata": {},
     "output_type": "execute_result"
    }
   ],
   "source": [
    "targets = [t for s,t in elist] # target node names\n",
    "targets"
   ]
  },
  {
   "cell_type": "code",
   "execution_count": 5,
   "metadata": {},
   "outputs": [
    {
     "data": {
      "text/plain": [
       "['A', 'B', 'C', 'D']"
      ]
     },
     "execution_count": 5,
     "metadata": {},
     "output_type": "execute_result"
    }
   ],
   "source": [
    "all_nodes = list(set(sources + targets))\n",
    "all_nodes"
   ]
  },
  {
   "cell_type": "markdown",
   "metadata": {},
   "source": [
    "## OOP: Construct Graph"
   ]
  },
  {
   "cell_type": "code",
   "execution_count": 83,
   "metadata": {},
   "outputs": [],
   "source": [
    "class node():\n",
    "    def __init__(self, node_name):\n",
    "        self.node_name = node_name\n",
    "        self.neighbors = [] # this holds instances of nodes (not node names)\n",
    "        \n",
    "    def neighbors_name(self):\n",
    "        return [neighbor.node_name for neighbor in self.neighbors]\n",
    "        \n",
    "class graph():\n",
    "    def __init__(self, elist):\n",
    "        self.elist = elist\n",
    "        sources = [s for s,t in self.elist]  # source node names\n",
    "        targets = [t for s,t in self.elist] # target node names\n",
    "        self.node_names = list(set(sources + targets))\n",
    "        \n",
    "        self.nodes = {name:node(name) for name in self.node_names}\n",
    "        self.create_graph()\n",
    "        \n",
    "    def add_edge(self, s_name, t_name):\n",
    "        self.nodes[s_name].neighbors.append(self.nodes[t_name])\n",
    "        self.nodes[t_name].neighbors.append(self.nodes[s_name])\n",
    "        \n",
    "    def create_graph(self):\n",
    "        for s,t in self.elist:\n",
    "            self.add_edge(s,t)\n",
    "            \n",
    "    def info(self):\n",
    "        return {s:node_s.neighbors_name() for s,node_s in self.nodes.items()}\n",
    "    \n",
    "    def draw(self, color = 'lightblue'):\n",
    "        \"\"\"\n",
    "            Usage of networkx for visualisation\n",
    "        \"\"\"\n",
    "        G = nx.Graph()\n",
    "        G.add_edges_from(self.elist)\n",
    "        plt.figure(figsize=(16,8))\n",
    "        nx.draw(G, node_size=5000, node_color=color, with_labels=True)\n",
    "       "
   ]
  },
  {
   "cell_type": "code",
   "execution_count": 84,
   "metadata": {},
   "outputs": [
    {
     "data": {
      "text/plain": [
       "[('0', '6'),\n",
       " ('0', '2'),\n",
       " ('0', '1'),\n",
       " ('3', '5'),\n",
       " ('4', '5'),\n",
       " ('4', '6'),\n",
       " ('0', '5'),\n",
       " ('3', '4'),\n",
       " ('7', '8'),\n",
       " ('9', '11'),\n",
       " ('9', '10'),\n",
       " ('11', '12'),\n",
       " ('9', '12')]"
      ]
     },
     "execution_count": 84,
     "metadata": {},
     "output_type": "execute_result"
    }
   ],
   "source": [
    "elist"
   ]
  },
  {
   "cell_type": "code",
   "execution_count": 85,
   "metadata": {},
   "outputs": [],
   "source": [
    "G = graph(elist)"
   ]
  },
  {
   "cell_type": "code",
   "execution_count": 87,
   "metadata": {},
   "outputs": [
    {
     "data": {
      "text/plain": [
       "{'1': ['0'],\n",
       " '4': ['5', '6', '3'],\n",
       " '0': ['6', '2', '1', '5'],\n",
       " '5': ['3', '4', '0'],\n",
       " '8': ['7'],\n",
       " '9': ['11', '10', '12'],\n",
       " '6': ['0', '4'],\n",
       " '2': ['0'],\n",
       " '10': ['9'],\n",
       " '7': ['8'],\n",
       " '12': ['11', '9'],\n",
       " '3': ['5', '4'],\n",
       " '11': ['9', '12']}"
      ]
     },
     "execution_count": 87,
     "metadata": {},
     "output_type": "execute_result"
    }
   ],
   "source": [
    "G.info()"
   ]
  },
  {
   "cell_type": "code",
   "execution_count": 88,
   "metadata": {},
   "outputs": [
    {
     "data": {
      "image/png": "[encoded data removed]",
      "text/plain": [
       "<Figure size 1152x576 with 1 Axes>"
      ]
     },
     "metadata": {},
     "output_type": "display_data"
    }
   ],
   "source": [
    "G.draw(color = 'pink')"
   ]
  },
  {
   "cell_type": "markdown",
   "metadata": {},
   "source": [
    "## UndirectedDFS"
   ]
  },
  {
   "cell_type": "code",
   "execution_count": 99,
   "metadata": {},
   "outputs": [],
   "source": [
    "class UndirectedDFS():\n",
    "    def __init__(self, G):\n",
    "        self.G = G\n",
    "        self.visited = {node_name: False for node_name in self.G.node_names}\n",
    "        self.traversal = []\n",
    "        \n",
    "    def dfs(self, sname):\n",
    "        self.visited[sname] = True\n",
    "        self.traversal.append(sname)\n",
    "        for neighbor in self.G.nodes[sname].neighbors:\n",
    "            if not self.visited[neighbor.node_name]:\n",
    "                self.dfs(neighbor.node_name)"
   ]
  },
  {
   "cell_type": "code",
   "execution_count": 100,
   "metadata": {},
   "outputs": [
    {
     "data": {
      "text/plain": [
       "[('0', '6'),\n",
       " ('0', '2'),\n",
       " ('0', '1'),\n",
       " ('3', '5'),\n",
       " ('4', '5'),\n",
       " ('4', '6'),\n",
       " ('0', '5'),\n",
       " ('3', '4'),\n",
       " ('7', '8'),\n",
       " ('9', '11'),\n",
       " ('9', '10'),\n",
       " ('11', '12'),\n",
       " ('9', '12')]"
      ]
     },
     "execution_count": 100,
     "metadata": {},
     "output_type": "execute_result"
    }
   ],
   "source": [
    "str_elist = \"\"\"\n",
    "0 6\n",
    "0 2\n",
    "0 1\n",
    "3 5\n",
    "4 5\n",
    "4 6\n",
    "0 5\n",
    "3 4\n",
    "7 8\n",
    "9 11\n",
    "9 10\n",
    "11 12\n",
    "9 12\n",
    "\"\"\"\n",
    "elist = [tuple(line.split(' ')) for line in str_elist.split('\\n') if line != '']\n",
    "elist"
   ]
  },
  {
   "cell_type": "code",
   "execution_count": 101,
   "metadata": {},
   "outputs": [
    {
     "data": {
      "image/png": "[encoded data removed]",
      "text/plain": [
       "<Figure size 1152x576 with 1 Axes>"
      ]
     },
     "metadata": {},
     "output_type": "display_data"
    }
   ],
   "source": [
    "G = graph(elist)\n",
    "G.draw(color = 'lightblue')"
   ]
  },
  {
   "cell_type": "code",
   "execution_count": 102,
   "metadata": {},
   "outputs": [
    {
     "data": {
      "text/plain": [
       "{'1': ['0'],\n",
       " '4': ['5', '6', '3'],\n",
       " '0': ['6', '2', '1', '5'],\n",
       " '5': ['3', '4', '0'],\n",
       " '8': ['7'],\n",
       " '9': ['11', '10', '12'],\n",
       " '6': ['0', '4'],\n",
       " '2': ['0'],\n",
       " '10': ['9'],\n",
       " '7': ['8'],\n",
       " '12': ['11', '9'],\n",
       " '3': ['5', '4'],\n",
       " '11': ['9', '12']}"
      ]
     },
     "execution_count": 102,
     "metadata": {},
     "output_type": "execute_result"
    }
   ],
   "source": [
    "G.info()"
   ]
  },
  {
   "cell_type": "code",
   "execution_count": 103,
   "metadata": {},
   "outputs": [],
   "source": [
    "dfs = UndirectedDFS(G)\n",
    "dfs.dfs('0')"
   ]
  },
  {
   "cell_type": "code",
   "execution_count": 104,
   "metadata": {},
   "outputs": [
    {
     "data": {
      "text/plain": [
       "['0', '6', '4', '5', '3', '2', '1']"
      ]
     },
     "execution_count": 104,
     "metadata": {},
     "output_type": "execute_result"
    }
   ],
   "source": [
    "dfs.traversal"
   ]
  },
  {
   "cell_type": "markdown",
   "metadata": {},
   "source": [
    "## Connected Component"
   ]
  },
  {
   "cell_type": "code",
   "execution_count": 131,
   "metadata": {},
   "outputs": [],
   "source": [
    "class ConnectedComponent():\n",
    "    def __init__(self, G):\n",
    "        self.G = G\n",
    "        self.visited = {node_name: False for node_name in self.G.node_names}\n",
    "        self.id = {}\n",
    "        self.count = 0\n",
    "        \n",
    "        for node_name in self.G.node_names:\n",
    "            if not self.visited[node_name]:\n",
    "                self.dfs(node_name)\n",
    "                self.count += 1\n",
    "        \n",
    "    def dfs(self, sname):\n",
    "        self.visited[sname] = True\n",
    "        self.id[sname] = self.count\n",
    "\n",
    "        for neighbor in self.G.nodes[sname].neighbors:\n",
    "            if not self.visited[neighbor.node_name]:\n",
    "                self.dfs(neighbor.node_name)\n",
    "                \n",
    "    def inSameComponent(self, s,t):\n",
    "        return self.id[s] == self.id[t]"
   ]
  },
  {
   "cell_type": "code",
   "execution_count": 132,
   "metadata": {},
   "outputs": [
    {
     "data": {
      "text/plain": [
       "{'1': 0,\n",
       " '0': 0,\n",
       " '6': 0,\n",
       " '4': 0,\n",
       " '5': 0,\n",
       " '3': 0,\n",
       " '2': 0,\n",
       " '8': 1,\n",
       " '7': 1,\n",
       " '9': 2,\n",
       " '11': 2,\n",
       " '12': 2,\n",
       " '10': 2}"
      ]
     },
     "execution_count": 132,
     "metadata": {},
     "output_type": "execute_result"
    }
   ],
   "source": [
    "compo = ConnectedComponent(G)\n",
    "compo.id"
   ]
  },
  {
   "cell_type": "markdown",
   "metadata": {},
   "source": [
    "### What is the number of Connected Components"
   ]
  },
  {
   "cell_type": "code",
   "execution_count": 133,
   "metadata": {},
   "outputs": [
    {
     "data": {
      "text/plain": [
       "3"
      ]
     },
     "execution_count": 133,
     "metadata": {},
     "output_type": "execute_result"
    }
   ],
   "source": [
    "max(compo.id.values()) + 1 # linear time"
   ]
  },
  {
   "cell_type": "code",
   "execution_count": 134,
   "metadata": {},
   "outputs": [
    {
     "data": {
      "text/plain": [
       "3"
      ]
     },
     "execution_count": 134,
     "metadata": {},
     "output_type": "execute_result"
    }
   ],
   "source": [
    "compo.count # constant time"
   ]
  },
  {
   "cell_type": "markdown",
   "metadata": {},
   "source": [
    "### Are s = 5 and t = 7 are connected?"
   ]
  },
  {
   "cell_type": "code",
   "execution_count": 135,
   "metadata": {},
   "outputs": [
    {
     "name": "stdout",
     "output_type": "stream",
     "text": [
      "Component Id of 5 is 0\n",
      "Component Id of 7 is 1\n"
     ]
    }
   ],
   "source": [
    "s, t = '5', '7'\n",
    "print('Component Id of {} is {}'.format(s, compo.id[s]))\n",
    "print('Component Id of {} is {}'.format(t, compo.id[t]))"
   ]
  },
  {
   "cell_type": "code",
   "execution_count": 136,
   "metadata": {},
   "outputs": [],
   "source": [
    "def inSameComponent(s,t):\n",
    "    print('Component Id of {} is {}'.format(s, compo.id[s]))\n",
    "    print('Component Id of {} is {}'.format(t, compo.id[t]))\n",
    "    return compo.id[s] == compo.id[t]"
   ]
  },
  {
   "cell_type": "code",
   "execution_count": 130,
   "metadata": {},
   "outputs": [
    {
     "name": "stdout",
     "output_type": "stream",
     "text": [
      "Component Id of 6 is 0\n",
      "Component Id of 4 is 0\n"
     ]
    },
    {
     "data": {
      "text/plain": [
       "True"
      ]
     },
     "execution_count": 130,
     "metadata": {},
     "output_type": "execute_result"
    }
   ],
   "source": [
    "inSameComponent(s = '6',t = '4')"
   ]
  },
  {
   "cell_type": "code",
   "execution_count": 138,
   "metadata": {},
   "outputs": [
    {
     "data": {
      "text/plain": [
       "False"
      ]
     },
     "execution_count": 138,
     "metadata": {},
     "output_type": "execute_result"
    }
   ],
   "source": [
    "compo.inSameComponent(s = '6',t = '10')"
   ]
  },
  {
   "cell_type": "code",
   "execution_count": null,
   "metadata": {},
   "outputs": [],
   "source": []
  }
 ],
 "metadata": {
  "kernelspec": {
   "display_name": "Python 3",
   "language": "python",
   "name": "python3"
  },
  "language_info": {
   "codemirror_mode": {
    "name": "ipython",
    "version": 3
   },
   "file_extension": ".py",
   "mimetype": "text/x-python",
   "name": "python",
   "nbconvert_exporter": "python",
   "pygments_lexer": "ipython3",
   "version": "3.6.7"
  }
 },
 "nbformat": 4,
 "nbformat_minor": 2
}
